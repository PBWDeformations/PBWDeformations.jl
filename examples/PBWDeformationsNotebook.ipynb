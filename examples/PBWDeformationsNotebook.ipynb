{
 "cells": [
  {
   "cell_type": "markdown",
   "id": "531a4e97",
   "metadata": {},
   "source": [
    "# PBW Deformations of Smash Products"
   ]
  },
  {
   "cell_type": "markdown",
   "id": "adee9e34",
   "metadata": {},
   "source": [
    "We present the current functionality of the $\\texttt{PBWDeformations.jl}$ package."
   ]
  },
  {
   "cell_type": "code",
   "execution_count": 1,
   "id": "58be0e38",
   "metadata": {},
   "outputs": [
    {
     "name": "stdout",
     "output_type": "stream",
     "text": [
      "  ___   ____   ____    _    ____\n",
      " / _ \\ / ___| / ___|  / \\  |  _ \\   |  Combining ANTIC, GAP, Polymake, Singular\n",
      "| | | |\\___ \\| |     / _ \\ | |_) |  |  Type \"?Oscar\" for more information\n",
      "| |_| | ___) | |___ / ___ \\|  _ <   |  Manual: https://docs.oscar-system.org\n",
      " \\___/ |____/ \\____/_/   \\_\\_| \\_\\  |  Version 1.0.4\n"
     ]
    }
   ],
   "source": [
    "using Oscar, PBWDeformations"
   ]
  },
  {
   "cell_type": "code",
   "execution_count": 2,
   "id": "11bd76f4",
   "metadata": {},
   "outputs": [
    {
     "name": "stdout",
     "output_type": "stream",
     "text": [
      "\u001b[32m\u001b[1mStatus\u001b[22m\u001b[39m `~/code/julia/PBWDeformations.jl/examples/Project.toml`\n",
      "  \u001b[90m[f1435218] \u001b[39mOscar v1.0.4\n",
      "  \u001b[90m[5e7992ee] \u001b[39mPBWDeformations v0.3.0\n"
     ]
    }
   ],
   "source": [
    "] status"
   ]
  },
  {
   "cell_type": "markdown",
   "id": "c1e8ef62",
   "metadata": {},
   "source": [
    "## Smash products"
   ]
  },
  {
   "cell_type": "markdown",
   "id": "b91b95de",
   "metadata": {},
   "source": [
    "One can create smash products of the form $$TV \\rtimes U(L)$$ for some finite-dimensional semisimple Lie algebra $L$ and $V$ some finite dimensional $L$-module."
   ]
  },
  {
   "cell_type": "markdown",
   "id": "5689fd7d",
   "metadata": {},
   "source": [
    "As an ongoing example, we use $L = \\mathfrak{gl}_3(\\mathbb{Q})$ and the module $V = V_{\\mathrm{nat}} \\oplus V_{\\mathrm{nat}}^\\ast$, where $V_{\\mathrm{nat}}$ is the natural module."
   ]
  },
  {
   "cell_type": "code",
   "execution_count": 3,
   "id": "a1d6a9b1",
   "metadata": {},
   "outputs": [
    {
     "data": {
      "text/plain": [
       "General linear Lie algebra of degree 3\n",
       "  of dimension 9\n",
       "over rational field"
      ]
     },
     "execution_count": 3,
     "metadata": {},
     "output_type": "execute_result"
    }
   ],
   "source": [
    "L = general_linear_lie_algebra(QQ, 3)"
   ]
  },
  {
   "cell_type": "code",
   "execution_count": 4,
   "id": "30ea30ef-bf34-4bcb-8bdd-f626950a075f",
   "metadata": {},
   "outputs": [
    {
     "data": {
      "text/plain": [
       "Direct sum module\n",
       "  of dimension 6\n",
       "  direct sum with direct summands\n",
       "    standard module\n",
       "    dual of \n",
       "      standard module\n",
       "over general linear Lie algebra of degree 3 over QQ"
      ]
     },
     "execution_count": 4,
     "metadata": {},
     "output_type": "execute_result"
    }
   ],
   "source": [
    "V = direct_sum(standard_module(L), dual(standard_module(L)))"
   ]
  },
  {
   "cell_type": "code",
   "execution_count": 5,
   "id": "6b441f57-6b1f-4663-9ed3-13ddb53b525e",
   "metadata": {},
   "outputs": [
    {
     "data": {
      "text/plain": [
       "Smash Product of General linear Lie algebra of degree 3 over QQ and Direct sum module of dimension 6 over gl_3"
      ]
     },
     "execution_count": 5,
     "metadata": {},
     "output_type": "execute_result"
    }
   ],
   "source": [
    "sp = smash_product(L, V)"
   ]
  },
  {
   "cell_type": "markdown",
   "id": "56d1fe0a-5d2b-4bb0-8063-78b82ab53444",
   "metadata": {},
   "source": [
    "This objects satisfies the interface for non-commutative rings from `AbstractAlgebra.jl`."
   ]
  },
  {
   "cell_type": "code",
   "execution_count": 6,
   "id": "a3f7532d-57c5-48ab-a65a-db6d4fa30bf5",
   "metadata": {},
   "outputs": [
    {
     "data": {
      "text/plain": [
       "true"
      ]
     },
     "execution_count": 6,
     "metadata": {},
     "output_type": "execute_result"
    }
   ],
   "source": [
    "sp isa NCRing"
   ]
  },
  {
   "cell_type": "markdown",
   "id": "99f142ff",
   "metadata": {},
   "source": [
    "Arithmetics works as expected, with the exception that not after every arithmetic operation the expressions are normalized. This will only be done in some few functions like `==`, and when explicitly calling `simplify`:"
   ]
  },
  {
   "cell_type": "code",
   "execution_count": 7,
   "id": "d4cb09e5-fbc1-4de3-a03f-1f8ec192d5c9",
   "metadata": {},
   "outputs": [
    {
     "data": {
      "text/plain": [
       "x_2_1*(v_1^(1)) - (v_1^(1))*x_2_1"
      ]
     },
     "execution_count": 7,
     "metadata": {},
     "output_type": "execute_result"
    }
   ],
   "source": [
    "some_elem = gen(sp, 4)*gen(sp, 10) - gen(sp, 10)*gen(sp, 4) # just a formal commutator"
   ]
  },
  {
   "cell_type": "code",
   "execution_count": 8,
   "id": "7a27f2cd-8aed-48ca-9e94-26a0752a994f",
   "metadata": {},
   "outputs": [
    {
     "data": {
      "text/plain": [
       "(v_2^(1))"
      ]
     },
     "execution_count": 8,
     "metadata": {},
     "output_type": "execute_result"
    }
   ],
   "source": [
    "simplify(some_elem)"
   ]
  },
  {
   "cell_type": "markdown",
   "id": "6ec29e6c",
   "metadata": {},
   "source": [
    "## Deforming smash products"
   ]
  },
  {
   "cell_type": "markdown",
   "id": "aa5f0556",
   "metadata": {},
   "source": [
    "A deformation of a smash product $TV \\rtimes U(L)$ is formally $$A := A_{L,V,\\kappa} := (TV \\rtimes U(L))/I_\\kappa$$ where $I_\\kappa := \\big([v_i,v_j] - \\kappa(v_i \\wedge v_j)\\big)$ for some morphism $\\kappa: V \\wedge V \\to U(L)$."
   ]
  },
  {
   "cell_type": "markdown",
   "id": "64dcbca8",
   "metadata": {},
   "source": [
    "In the context of this package, $\\kappa$ is always represented as a matrix $M_\\kappa$ where $M_\\kappa[i,j] = \\kappa(v_i \\wedge v_j)$."
   ]
  },
  {
   "cell_type": "markdown",
   "id": "91a435ec",
   "metadata": {},
   "source": [
    "As a first example, consider the symmetric deformation induced by $\\kappa = 0$ and denoted by $A_0 := A_{H,V,0}$."
   ]
  },
  {
   "cell_type": "code",
   "execution_count": 9,
   "id": "bcce03ca",
   "metadata": {},
   "outputs": [
    {
     "data": {
      "text/plain": [
       "Symmetric deformation of Smash Product of General linear Lie algebra of degree 3 over QQ and Direct sum module of dimension 6 over gl_3"
      ]
     },
     "execution_count": 9,
     "metadata": {},
     "output_type": "execute_result"
    }
   ],
   "source": [
    "symmetric_deformation(sp)"
   ]
  },
  {
   "cell_type": "markdown",
   "id": "7ec4c6d6",
   "metadata": {},
   "source": [
    "This is in fact only a shorthand for the following, slightly longer code."
   ]
  },
  {
   "cell_type": "code",
   "execution_count": 10,
   "id": "aa628ffd",
   "metadata": {},
   "outputs": [
    {
     "data": {
      "text/plain": [
       "Symmetric deformation of Smash Product of General linear Lie algebra of degree 3 over QQ and Direct sum module of dimension 6 over gl_3"
      ]
     },
     "execution_count": 10,
     "metadata": {},
     "output_type": "execute_result"
    }
   ],
   "source": [
    "kappa = zero_matrix(underlying_algebra(sp), dim(base_module(sp)), dim(base_module(sp)))\n",
    "deform(sp, kappa)"
   ]
  },
  {
   "cell_type": "markdown",
   "id": "7c48253b",
   "metadata": {},
   "source": [
    "## PBW deformations"
   ]
  },
  {
   "cell_type": "markdown",
   "id": "30c1cc64",
   "metadata": {},
   "source": [
    "$A$ becomes a filtered algebra via $$F_i(A) = \\overline{T^{\\leq i}V \\rtimes H}.$$\n",
    "A deformation $A$ is called a *PBW deformation* of $A_0 = SV \\rtimes H$ if $\\mathop{gr} A \\cong A_0$ (as $\\mathbb{N}$-graded algebras)."
   ]
  },
  {
   "cell_type": "markdown",
   "id": "8d3045b4",
   "metadata": {},
   "source": [
    "This package can check for any $\\kappa$ if this induces a PBW deformation. To achieve this, it uses Theorem 3.1 of [[WW14]](#References)."
   ]
  },
  {
   "cell_type": "code",
   "execution_count": 11,
   "id": "2691d53d",
   "metadata": {},
   "outputs": [
    {
     "data": {
      "text/plain": [
       "true"
      ]
     },
     "execution_count": 11,
     "metadata": {},
     "output_type": "execute_result"
    }
   ],
   "source": [
    "is_pbwdeformation(symmetric_deformation(sp))"
   ]
  },
  {
   "cell_type": "markdown",
   "id": "d42b5fda",
   "metadata": {},
   "source": [
    "The symmetric deformation is *always* a PBW deformation."
   ]
  },
  {
   "cell_type": "code",
   "execution_count": 12,
   "id": "219ff3b1",
   "metadata": {},
   "outputs": [
    {
     "data": {
      "text/plain": [
       "true"
      ]
     },
     "execution_count": 12,
     "metadata": {},
     "output_type": "execute_result"
    }
   ],
   "source": [
    "kappa2 = zero_matrix(underlying_algebra(sp), dim(base_module(sp)), dim(base_module(sp)))\n",
    "kappa2[1,2] = gen(underlying_algebra(sp), 4)\n",
    "kappa2[2,1] = -kappa2[1,2]\n",
    "deform2 = deform(sp, kappa)\n",
    "is_pbwdeformation(deform2)"
   ]
  },
  {
   "cell_type": "markdown",
   "id": "395a4688",
   "metadata": {},
   "source": [
    "Most deformations are no PBW deformations."
   ]
  },
  {
   "cell_type": "markdown",
   "id": "d763a0a3",
   "metadata": {},
   "source": [
    "## Computing *all* PBW deformations"
   ]
  },
  {
   "cell_type": "markdown",
   "id": "3f71fc37",
   "metadata": {},
   "source": [
    "Using Theorem 3.1 of [[WW14]](#References), one can compute a basis of the matrix space of all $M_\\kappa$ (up to a fixed degree) that induce a PBW deformation.\n",
    "\n",
    "**WARNING**: This computation needs a lot of time and RAM, even for small examples."
   ]
  },
  {
   "cell_type": "code",
   "execution_count": 13,
   "id": "016821a4",
   "metadata": {},
   "outputs": [
    {
     "data": {
      "text/plain": [
       "3-element Vector{MatElem{<:FreeAssAlgElem{QQFieldElem}}}:\n",
       " [0 0 0 1 0 0; 0 0 0 0 1 0; 0 0 0 0 0 1; -1 0 0 0 0 0; 0 -1 0 0 0 0; 0 0 -1 0 0 0]\n",
       " [0 0 0 x_1_1+1//2*x_2_2+1//2*x_3_3 1//2*x_1_2 1//2*x_1_3; 0 0 0 1//2*x_2_1 1//2*x_1_1+x_2_2+1//2*x_3_3 1//2*x_2_3; 0 0 0 1//2*x_3_1 1//2*x_3_2 1//2*x_1_1+1//2*x_2_2+x_3_3; -x_1_1-1//2*x_2_2-1//2*x_3_3 -1//2*x_2_1 -1//2*x_3_1 0 0 0; -1//2*x_1_2 -1//2*x_1_1-x_2_2-1//2*x_3_3 -1//2*x_3_2 0 0 0; -1//2*x_1_3 -1//2*x_2_3 -1//2*x_1_1-1//2*x_2_2-x_3_3 0 0 0]\n",
       " [0 0 0 x_1_1^2+2//3*x_1_1*x_2_2+2//3*x_1_1*x_3_3+2//3*x_1_2*x_2_1+2//3*x_1_3*x_3_1+1//3*x_2_2^2+1//3*x_2_2*x_3_3+1//3*x_2_3*x_3_2+1//3*x_3_3^2-4//3*x_1_1-1//6*x_2_2+1//6*x_3_3 2//3*x_1_1*x_1_2+2//3*x_1_2*x_2_2+1//3*x_1_2*x_3_3+1//3*x_1_3*x_3_2-7//6*x_1_2 2//3*x_1_1*x_1_3+1//3*x_1_2*x_2_3+1//3*x_1_3*x_2_2+2//3*x_1_3*x_3_3-7//6*x_1_3; 0 0 0 2//3*x_1_1*x_2_1+2//3*x_2_1*x_2_2+1//3*x_2_1*x_3_3+1//3*x_2_3*x_3_1+1//6*x_2_1 1//3*x_1_1^2+2//3*x_1_1*x_2_2+1//3*x_1_1*x_3_3+2//3*x_1_2*x_2_1+1//3*x_1_3*x_3_1+x_2_2^2+2//3*x_2_2*x_3_3+2//3*x_2_3*x_3_2+1//3*x_3_3^2-5//6*x_1_1-2//3*x_2_2+1//6*x_3_3 1//3*x_1_1*x_2_3+1//3*x_1_3*x_2_1+2//3*x_2_2*x_2_3+2//3*x_2_3*x_3_3-5//6*x_2_3; 0 0 0 2//3*x_1_1*x_3_1+1//3*x_2_1*x_3_2+1//3*x_2_2*x_3_1+2//3*x_3_1*x_3_3+1//2*x_3_1 1//3*x_1_1*x_3_2+1//3*x_1_2*x_3_1+2//3*x_2_2*x_3_2+2//3*x_3_2*x_3_3+1//2*x_3_2 1//3*x_1_1^2+1//3*x_1_1*x_2_2+2//3*x_1_1*x_3_3+1//3*x_1_2*x_2_1+2//3*x_1_3*x_3_1+1//3*x_2_2^2+2//3*x_2_2*x_3_3+2//3*x_2_3*x_3_2+x_3_3^2-5//6*x_1_1-1//2*x_2_2; -x_1_1^2-2//3*x_1_1*x_2_2-2//3*x_1_1*x_3_3-2//3*x_1_2*x_2_1-2//3*x_1_3*x_3_1-1//3*x_2_2^2-1//3*x_2_2*x_3_3-1//3*x_2_3*x_3_2-1//3*x_3_3^2+4//3*x_1_1+1//6*x_2_2-1//6*x_3_3 -2//3*x_1_1*x_2_1-2//3*x_2_1*x_2_2-1//3*x_2_1*x_3_3-1//3*x_2_3*x_3_1-1//6*x_2_1 -2//3*x_1_1*x_3_1-1//3*x_2_1*x_3_2-1//3*x_2_2*x_3_1-2//3*x_3_1*x_3_3-1//2*x_3_1 0 0 0; -2//3*x_1_1*x_1_2-2//3*x_1_2*x_2_2-1//3*x_1_2*x_3_3-1//3*x_1_3*x_3_2+7//6*x_1_2 -1//3*x_1_1^2-2//3*x_1_1*x_2_2-1//3*x_1_1*x_3_3-2//3*x_1_2*x_2_1-1//3*x_1_3*x_3_1-x_2_2^2-2//3*x_2_2*x_3_3-2//3*x_2_3*x_3_2-1//3*x_3_3^2+5//6*x_1_1+2//3*x_2_2-1//6*x_3_3 -1//3*x_1_1*x_3_2-1//3*x_1_2*x_3_1-2//3*x_2_2*x_3_2-2//3*x_3_2*x_3_3-1//2*x_3_2 0 0 0; -2//3*x_1_1*x_1_3-1//3*x_1_2*x_2_3-1//3*x_1_3*x_2_2-2//3*x_1_3*x_3_3+7//6*x_1_3 -1//3*x_1_1*x_2_3-1//3*x_1_3*x_2_1-2//3*x_2_2*x_2_3-2//3*x_2_3*x_3_3+5//6*x_2_3 -1//3*x_1_1^2-1//3*x_1_1*x_2_2-2//3*x_1_1*x_3_3-1//3*x_1_2*x_2_1-2//3*x_1_3*x_3_1-1//3*x_2_2^2-2//3*x_2_2*x_3_3-2//3*x_2_3*x_3_2-x_3_3^2+5//6*x_1_1+1//2*x_2_2 0 0 0]"
      ]
     },
     "execution_count": 13,
     "metadata": {},
     "output_type": "execute_result"
    }
   ],
   "source": [
    "kappas = all_pbwdeformations(sp, 0:2)"
   ]
  },
  {
   "cell_type": "markdown",
   "id": "21f9b314",
   "metadata": {},
   "source": [
    "The space of $M_\\kappa$ of degree at most 2 and inducing a PBW deformation has dimension 2.\n",
    "\n",
    "We can check that these indeed induce PBW deformations."
   ]
  },
  {
   "cell_type": "code",
   "execution_count": 14,
   "id": "9bf73aea",
   "metadata": {},
   "outputs": [
    {
     "name": "stdout",
     "output_type": "stream",
     "text": [
      "true\n",
      "true\n",
      "true\n"
     ]
    }
   ],
   "source": [
    "for kappa in kappas\n",
    "    d = deform(sp, kappa)\n",
    "    println(is_pbwdeformation(d))\n",
    "end"
   ]
  },
  {
   "cell_type": "markdown",
   "id": "46d1e0e0-1c3c-4e6a-afb3-3b8a136244dd",
   "metadata": {},
   "source": [
    "## Computing *all* PBW deformations using Arc diagrams"
   ]
  },
  {
   "cell_type": "markdown",
   "id": "26e2f14c-3438-4899-bd33-b51291849286",
   "metadata": {},
   "source": [
    "[[FM22]](#References) introduced techniques using interpolation categories to efficiently parameterize a generating set of the morphism space of eligible deformation maps $\\kappa: V \\wedge V \\to U(L)$ for the case of $\\mathfrak{so}_n$. This was achieved using arc diagrams. We extend their methods to $\\mathfrak{gl}_n$ and need directed arc diagrams."
   ]
  },
  {
   "attachments": {},
   "cell_type": "markdown",
   "id": "6be8de99-0f9f-4a93-b64b-94a8bd3870ac",
   "metadata": {},
   "source": [
    "We can enumerate all arc diagrams needed for a particular morphism space, here e.g. for $\\mathrm{Hom}(V_{\\mathrm{nat}} \\otimes V_{\\mathrm{nat}}^\\ast, S^2 L) \\cong \\mathrm{Hom}(V_{\\mathrm{nat}} \\otimes V_{\\mathrm{nat}}^\\ast, S^2 (V_{\\mathrm{nat}} \\otimes V_{\\mathrm{nat}}^\\ast))$, using the following *internal* function."
   ]
  },
  {
   "cell_type": "code",
   "execution_count": 15,
   "id": "2435c34b-2661-4ef6-a279-ce714020d968",
   "metadata": {},
   "outputs": [
    {
     "data": {
      "text/plain": [
       "6-element Vector{ArcDiagramDirected}:\n",
       " aA,CcEe\n",
       " aA,CdDc\n",
       " aB,AbEe\n",
       " aB,AdDb\n",
       " aB,CbAc\n",
       " aB,CcAb"
      ]
     },
     "execution_count": 15,
     "metadata": {},
     "output_type": "execute_result"
    }
   ],
   "source": [
    "PBWDeformations.pbw_arc_diagrams(PBWDeformations.GL(), tensor_product(standard_module(L), dual(standard_module(L))), 2) |> collect"
   ]
  },
  {
   "attachments": {
    "fedf7d9b-91ee-4e04-b04a-36f645f365bd.png": {
     "image/png": "[encoded data removed]"
    }
   },
   "cell_type": "markdown",
   "id": "2ecb4a29-ed04-446e-bc44-65c73caf1b50",
   "metadata": {},
   "source": [
    "We then specialize the orbit of **aB,AdDb** to $\\mathrm{Hom}(V_{\\mathrm{nat}} \\otimes V_{\\mathrm{nat}}^\\ast, S^2 L)$ using the following *internal* function. This arc diagram is\n",
    "<div>\n",
    "<img src=\"attachment:fedf7d9b-91ee-4e04-b04a-36f645f365bd.png\" width=\"200\"/>\n",
    "</div>"
   ]
  },
  {
   "cell_type": "code",
   "execution_count": 16,
   "id": "c12a2e8f-2605-4024-8c2a-03e453436f05",
   "metadata": {},
   "outputs": [
    {
     "data": {
      "text/plain": [
       "[x_1_1^2 + x_1_2*x_2_1 + x_1_3*x_3_1 - x_1_1 + 1//2*x_2_2 + 1//2*x_3_3            x_1_1*x_1_2 + x_1_2*x_2_2 + x_1_3*x_3_2 - 3//2*x_1_2                    x_1_1*x_1_3 + x_1_2*x_2_3 + x_1_3*x_3_3 - 3//2*x_1_3]\n",
       "[                 x_1_1*x_2_1 + x_2_1*x_2_2 + x_2_3*x_3_1 + 1//2*x_2_1   x_1_2*x_2_1 + x_2_2^2 + x_2_3*x_3_2 - 1//2*x_1_1 + 1//2*x_3_3                    x_1_3*x_2_1 + x_2_2*x_2_3 + x_2_3*x_3_3 - 1//2*x_2_3]\n",
       "[                 x_1_1*x_3_1 + x_2_1*x_3_2 + x_3_1*x_3_3 + 3//2*x_3_1            x_1_2*x_3_1 + x_2_2*x_3_2 + x_3_2*x_3_3 + 3//2*x_3_2   x_1_3*x_3_1 + x_2_3*x_3_2 + x_3_3^2 - 1//2*x_1_1 - 1//2*x_2_2 + x_3_3]"
      ]
     },
     "execution_count": 16,
     "metadata": {},
     "output_type": "execute_result"
    }
   ],
   "source": [
    "PBWDeformations.arcdiag_to_deformationmap(PBWDeformations.GL(), arc_diagram(Directed, \"aB,AdDb\"), sp, tensor_product(standard_module(L), dual(standard_module(L))))"
   ]
  },
  {
   "cell_type": "markdown",
   "id": "3383ba82-451f-41df-ac04-6a1ed6fd33ea",
   "metadata": {},
   "source": [
    "Putting everything together, there is a user function handling everything, now again with the example of $L = \\mathfrak{gl}_3(\\mathbb{Q})$ and $V = V_{\\mathrm{nat}} \\oplus V_{\\mathrm{nat}}^\\ast$."
   ]
  },
  {
   "cell_type": "code",
   "execution_count": 17,
   "id": "7350adfc-5996-49be-890e-b36e05a1efe5",
   "metadata": {},
   "outputs": [
    {
     "data": {
      "text/plain": [
       "1-element Vector{MatElem{<:FreeAssAlgElem{QQFieldElem}}}:\n",
       " [0 0 0 1 0 0; 0 0 0 0 1 0; 0 0 0 0 0 1; -1 0 0 0 0 0; 0 -1 0 0 0 0; 0 0 -1 0 0 0]"
      ]
     },
     "execution_count": 17,
     "metadata": {},
     "output_type": "execute_result"
    }
   ],
   "source": [
    "all_pbwdeformations(sp, ArcDiagDeformBasis{QQFieldElem}(sp, 0:0))"
   ]
  },
  {
   "cell_type": "code",
   "execution_count": 18,
   "id": "15e76a03-0e67-4191-a485-1e2e73700506",
   "metadata": {},
   "outputs": [
    {
     "data": {
      "text/plain": [
       "2-element Vector{MatElem{<:FreeAssAlgElem{QQFieldElem}}}:\n",
       " [0 0 0 1 0 0; 0 0 0 0 1 0; 0 0 0 0 0 1; -1 0 0 0 0 0; 0 -1 0 0 0 0; 0 0 -1 0 0 0]\n",
       " [0 0 0 2*x_1_1+x_2_2+x_3_3 x_1_2 x_1_3; 0 0 0 x_2_1 x_1_1+2*x_2_2+x_3_3 x_2_3; 0 0 0 x_3_1 x_3_2 x_1_1+x_2_2+2*x_3_3; -2*x_1_1-x_2_2-x_3_3 -x_2_1 -x_3_1 0 0 0; -x_1_2 -x_1_1-2*x_2_2-x_3_3 -x_3_2 0 0 0; -x_1_3 -x_2_3 -x_1_1-x_2_2-2*x_3_3 0 0 0]"
      ]
     },
     "execution_count": 18,
     "metadata": {},
     "output_type": "execute_result"
    }
   ],
   "source": [
    "all_pbwdeformations(sp, ArcDiagDeformBasis{QQFieldElem}(sp, 0:1))"
   ]
  },
  {
   "cell_type": "code",
   "execution_count": 19,
   "id": "4e374153-9ce6-4894-a876-42fab692b214",
   "metadata": {},
   "outputs": [
    {
     "data": {
      "text/plain": [
       "3-element Vector{MatElem{<:FreeAssAlgElem{QQFieldElem}}}:\n",
       " [0 0 0 1 0 0; 0 0 0 0 1 0; 0 0 0 0 0 1; -1 0 0 0 0 0; 0 -1 0 0 0 0; 0 0 -1 0 0 0]\n",
       " [0 0 0 2*x_1_1+x_2_2+x_3_3 x_1_2 x_1_3; 0 0 0 x_2_1 x_1_1+2*x_2_2+x_3_3 x_2_3; 0 0 0 x_3_1 x_3_2 x_1_1+x_2_2+2*x_3_3; -2*x_1_1-x_2_2-x_3_3 -x_2_1 -x_3_1 0 0 0; -x_1_2 -x_1_1-2*x_2_2-x_3_3 -x_3_2 0 0 0; -x_1_3 -x_2_3 -x_1_1-x_2_2-2*x_3_3 0 0 0]\n",
       " [0 0 0 3*x_1_1^2+2*x_1_1*x_2_2+2*x_1_1*x_3_3+2*x_1_2*x_2_1+2*x_1_3*x_3_1+x_2_2^2+x_2_2*x_3_3+x_2_3*x_3_2+x_3_3^2-2*x_1_1+1//2*x_2_2+3//2*x_3_3 2*x_1_1*x_1_2+2*x_1_2*x_2_2+x_1_2*x_3_3+x_1_3*x_3_2-5//2*x_1_2 2*x_1_1*x_1_3+x_1_2*x_2_3+x_1_3*x_2_2+2*x_1_3*x_3_3-5//2*x_1_3; 0 0 0 2*x_1_1*x_2_1+2*x_2_1*x_2_2+x_2_1*x_3_3+x_2_3*x_3_1+3//2*x_2_1 x_1_1^2+2*x_1_1*x_2_2+x_1_1*x_3_3+2*x_1_2*x_2_1+x_1_3*x_3_1+3*x_2_2^2+2*x_2_2*x_3_3+2*x_2_3*x_3_2+x_3_3^2-3//2*x_1_1+3//2*x_3_3 x_1_1*x_2_3+x_1_3*x_2_1+2*x_2_2*x_2_3+2*x_2_3*x_3_3-3//2*x_2_3; 0 0 0 2*x_1_1*x_3_1+x_2_1*x_3_2+x_2_2*x_3_1+2*x_3_1*x_3_3+5//2*x_3_1 x_1_1*x_3_2+x_1_2*x_3_1+2*x_2_2*x_3_2+2*x_3_2*x_3_3+5//2*x_3_2 x_1_1^2+x_1_1*x_2_2+2*x_1_1*x_3_3+x_1_2*x_2_1+2*x_1_3*x_3_1+x_2_2^2+2*x_2_2*x_3_3+2*x_2_3*x_3_2+3*x_3_3^2-3//2*x_1_1-1//2*x_2_2+2*x_3_3; -3*x_1_1^2-2*x_1_1*x_2_2-2*x_1_1*x_3_3-2*x_1_2*x_2_1-2*x_1_3*x_3_1-x_2_2^2-x_2_2*x_3_3-x_2_3*x_3_2-x_3_3^2+2*x_1_1-1//2*x_2_2-3//2*x_3_3 -2*x_1_1*x_2_1-2*x_2_1*x_2_2-x_2_1*x_3_3-x_2_3*x_3_1-3//2*x_2_1 -2*x_1_1*x_3_1-x_2_1*x_3_2-x_2_2*x_3_1-2*x_3_1*x_3_3-5//2*x_3_1 0 0 0; -2*x_1_1*x_1_2-2*x_1_2*x_2_2-x_1_2*x_3_3-x_1_3*x_3_2+5//2*x_1_2 -x_1_1^2-2*x_1_1*x_2_2-x_1_1*x_3_3-2*x_1_2*x_2_1-x_1_3*x_3_1-3*x_2_2^2-2*x_2_2*x_3_3-2*x_2_3*x_3_2-x_3_3^2+3//2*x_1_1-3//2*x_3_3 -x_1_1*x_3_2-x_1_2*x_3_1-2*x_2_2*x_3_2-2*x_3_2*x_3_3-5//2*x_3_2 0 0 0; -2*x_1_1*x_1_3-x_1_2*x_2_3-x_1_3*x_2_2-2*x_1_3*x_3_3+5//2*x_1_3 -x_1_1*x_2_3-x_1_3*x_2_1-2*x_2_2*x_2_3-2*x_2_3*x_3_3+3//2*x_2_3 -x_1_1^2-x_1_1*x_2_2-2*x_1_1*x_3_3-x_1_2*x_2_1-2*x_1_3*x_3_1-x_2_2^2-2*x_2_2*x_3_3-2*x_2_3*x_3_2-3*x_3_3^2+3//2*x_1_1+1//2*x_2_2-2*x_3_3 0 0 0]"
      ]
     },
     "execution_count": 19,
     "metadata": {},
     "output_type": "execute_result"
    }
   ],
   "source": [
    "all_pbwdeformations(sp, ArcDiagDeformBasis{QQFieldElem}(sp, 0:2))"
   ]
  },
  {
   "cell_type": "code",
   "execution_count": 20,
   "id": "c4bacd5d-33e8-43de-b413-423f87b9a72e",
   "metadata": {},
   "outputs": [
    {
     "data": {
      "text/plain": [
       "4-element Vector{MatElem{<:FreeAssAlgElem{QQFieldElem}}}:\n",
       " [0 0 0 1 0 0; 0 0 0 0 1 0; 0 0 0 0 0 1; -1 0 0 0 0 0; 0 -1 0 0 0 0; 0 0 -1 0 0 0]\n",
       " [0 0 0 2*x_1_1+x_2_2+x_3_3 x_1_2 x_1_3; 0 0 0 x_2_1 x_1_1+2*x_2_2+x_3_3 x_2_3; 0 0 0 x_3_1 x_3_2 x_1_1+x_2_2+2*x_3_3; -2*x_1_1-x_2_2-x_3_3 -x_2_1 -x_3_1 0 0 0; -x_1_2 -x_1_1-2*x_2_2-x_3_3 -x_3_2 0 0 0; -x_1_3 -x_2_3 -x_1_1-x_2_2-2*x_3_3 0 0 0]\n",
       " [0 0 0 3*x_1_1^2+2*x_1_1*x_2_2+2*x_1_1*x_3_3+2*x_1_2*x_2_1+2*x_1_3*x_3_1+x_2_2^2+x_2_2*x_3_3+x_2_3*x_3_2+x_3_3^2-2*x_1_1+1//2*x_2_2+3//2*x_3_3 2*x_1_1*x_1_2+2*x_1_2*x_2_2+x_1_2*x_3_3+x_1_3*x_3_2-5//2*x_1_2 2*x_1_1*x_1_3+x_1_2*x_2_3+x_1_3*x_2_2+2*x_1_3*x_3_3-5//2*x_1_3; 0 0 0 2*x_1_1*x_2_1+2*x_2_1*x_2_2+x_2_1*x_3_3+x_2_3*x_3_1+3//2*x_2_1 x_1_1^2+2*x_1_1*x_2_2+x_1_1*x_3_3+2*x_1_2*x_2_1+x_1_3*x_3_1+3*x_2_2^2+2*x_2_2*x_3_3+2*x_2_3*x_3_2+x_3_3^2-3//2*x_1_1+3//2*x_3_3 x_1_1*x_2_3+x_1_3*x_2_1+2*x_2_2*x_2_3+2*x_2_3*x_3_3-3//2*x_2_3; 0 0 0 2*x_1_1*x_3_1+x_2_1*x_3_2+x_2_2*x_3_1+2*x_3_1*x_3_3+5//2*x_3_1 x_1_1*x_3_2+x_1_2*x_3_1+2*x_2_2*x_3_2+2*x_3_2*x_3_3+5//2*x_3_2 x_1_1^2+x_1_1*x_2_2+2*x_1_1*x_3_3+x_1_2*x_2_1+2*x_1_3*x_3_1+x_2_2^2+2*x_2_2*x_3_3+2*x_2_3*x_3_2+3*x_3_3^2-3//2*x_1_1-1//2*x_2_2+2*x_3_3; -3*x_1_1^2-2*x_1_1*x_2_2-2*x_1_1*x_3_3-2*x_1_2*x_2_1-2*x_1_3*x_3_1-x_2_2^2-x_2_2*x_3_3-x_2_3*x_3_2-x_3_3^2+2*x_1_1-1//2*x_2_2-3//2*x_3_3 -2*x_1_1*x_2_1-2*x_2_1*x_2_2-x_2_1*x_3_3-x_2_3*x_3_1-3//2*x_2_1 -2*x_1_1*x_3_1-x_2_1*x_3_2-x_2_2*x_3_1-2*x_3_1*x_3_3-5//2*x_3_1 0 0 0; -2*x_1_1*x_1_2-2*x_1_2*x_2_2-x_1_2*x_3_3-x_1_3*x_3_2+5//2*x_1_2 -x_1_1^2-2*x_1_1*x_2_2-x_1_1*x_3_3-2*x_1_2*x_2_1-x_1_3*x_3_1-3*x_2_2^2-2*x_2_2*x_3_3-2*x_2_3*x_3_2-x_3_3^2+3//2*x_1_1-3//2*x_3_3 -x_1_1*x_3_2-x_1_2*x_3_1-2*x_2_2*x_3_2-2*x_3_2*x_3_3-5//2*x_3_2 0 0 0; -2*x_1_1*x_1_3-x_1_2*x_2_3-x_1_3*x_2_2-2*x_1_3*x_3_3+5//2*x_1_3 -x_1_1*x_2_3-x_1_3*x_2_1-2*x_2_2*x_2_3-2*x_2_3*x_3_3+3//2*x_2_3 -x_1_1^2-x_1_1*x_2_2-2*x_1_1*x_3_3-x_1_2*x_2_1-2*x_1_3*x_3_1-x_2_2^2-2*x_2_2*x_3_3-2*x_2_3*x_3_2-3*x_3_3^2+3//2*x_1_1+1//2*x_2_2-2*x_3_3 0 0 0]\n",
       " [0 0 0 2*x_1_1^3+3//2*x_1_1^2*x_2_2+3//2*x_1_1^2*x_3_3+3*x_1_1*x_1_2*x_2_1+3*x_1_1*x_1_3*x_3_1+x_1_1*x_2_2^2+x_1_1*x_2_2*x_3_3+x_1_1*x_2_3*x_3_2+x_1_1*x_3_3^2+2*x_1_2*x_2_1*x_2_2+x_1_2*x_2_1*x_3_3+x_1_2*x_2_3*x_3_1+x_1_3*x_2_1*x_3_2+x_1_3*x_2_2*x_3_1+2*x_1_3*x_3_1*x_3_3+1//2*x_2_2^3+1//2*x_2_2^2*x_3_3+x_2_2*x_2_3*x_3_2+1//2*x_2_2*x_3_3^2+x_2_3*x_3_2*x_3_3+1//2*x_3_3^3-3*x_1_1^2-1//2*x_1_1*x_2_2+1//2*x_1_1*x_3_3-x_1_2*x_2_1+1//2*x_2_2^2+x_2_2*x_3_3+x_2_3*x_3_2+3//2*x_3_3^2-1//2*x_2_2+1//2*x_3_3 3//2*x_1_1^2*x_1_2+2*x_1_1*x_1_2*x_2_2+x_1_1*x_1_2*x_3_3+x_1_1*x_1_3*x_3_2+x_1_2^2*x_2_1+x_1_2*x_1_3*x_3_1+3//2*x_1_2*x_2_2^2+x_1_2*x_2_2*x_3_3+x_1_2*x_2_3*x_3_2+1//2*x_1_2*x_3_3^2+x_1_3*x_2_2*x_3_2+x_1_3*x_3_2*x_3_3-9//2*x_1_1*x_1_2-5//2*x_1_2*x_2_2-1//2*x_1_2*x_3_3+5//2*x_1_2 3//2*x_1_1^2*x_1_3+x_1_1*x_1_2*x_2_3+x_1_1*x_1_3*x_2_2+2*x_1_1*x_1_3*x_3_3+x_1_2*x_1_3*x_2_1+x_1_2*x_2_2*x_2_3+x_1_2*x_2_3*x_3_3+x_1_3^2*x_3_1+1//2*x_1_3*x_2_2^2+x_1_3*x_2_2*x_3_3+x_1_3*x_2_3*x_3_2+3//2*x_1_3*x_3_3^2-9//2*x_1_1*x_1_3-2*x_1_2*x_2_3-3//2*x_1_3*x_2_2-3//2*x_1_3*x_3_3+5//2*x_1_3; 0 0 0 3//2*x_1_1^2*x_2_1+2*x_1_1*x_2_1*x_2_2+x_1_1*x_2_1*x_3_3+x_1_1*x_2_3*x_3_1+x_1_2*x_2_1^2+x_1_3*x_2_1*x_3_1+3//2*x_2_1*x_2_2^2+x_2_1*x_2_2*x_3_3+x_2_1*x_2_3*x_3_2+1//2*x_2_1*x_3_3^2+x_2_2*x_2_3*x_3_1+x_2_3*x_3_1*x_3_3+1//2*x_1_1*x_2_1+5//2*x_2_1*x_2_2+3//2*x_2_1*x_3_3+x_2_3*x_3_1+1//2*x_2_1 1//2*x_1_1^3+x_1_1^2*x_2_2+1//2*x_1_1^2*x_3_3+2*x_1_1*x_1_2*x_2_1+x_1_1*x_1_3*x_3_1+3//2*x_1_1*x_2_2^2+x_1_1*x_2_2*x_3_3+x_1_1*x_2_3*x_3_2+1//2*x_1_1*x_3_3^2+3*x_1_2*x_2_1*x_2_2+x_1_2*x_2_1*x_3_3+x_1_2*x_2_3*x_3_1+x_1_3*x_2_1*x_3_2+x_1_3*x_2_2*x_3_1+x_1_3*x_3_1*x_3_3+2*x_2_2^3+3//2*x_2_2^2*x_3_3+3*x_2_2*x_2_3*x_3_2+x_2_2*x_3_3^2+2*x_2_3*x_3_2*x_3_3+1//2*x_3_3^3-3//2*x_1_1^2-3//2*x_1_1*x_2_2-x_1_2*x_2_1+3//2*x_2_2*x_3_3+x_2_3*x_3_2+3//2*x_3_3^2+1//2*x_1_1-x_2_2+1//2*x_3_3 1//2*x_1_1^2*x_2_3+x_1_1*x_1_3*x_2_1+x_1_1*x_2_2*x_2_3+x_1_1*x_2_3*x_3_3+x_1_2*x_2_1*x_2_3+x_1_3*x_2_1*x_2_2+x_1_3*x_2_1*x_3_3+x_1_3*x_2_3*x_3_1+3//2*x_2_2^2*x_2_3+2*x_2_2*x_2_3*x_3_3+x_2_3^2*x_3_2+3//2*x_2_3*x_3_3^2-3//2*x_1_1*x_2_3-x_1_3*x_2_1-5//2*x_2_2*x_2_3-1//2*x_2_3*x_3_3+1//2*x_2_3; 0 0 0 3//2*x_1_1^2*x_3_1+x_1_1*x_2_1*x_3_2+x_1_1*x_2_2*x_3_1+2*x_1_1*x_3_1*x_3_3+x_1_2*x_2_1*x_3_1+x_1_3*x_3_1^2+x_2_1*x_2_2*x_3_2+x_2_1*x_3_2*x_3_3+1//2*x_2_2^2*x_3_1+x_2_2*x_3_1*x_3_3+x_2_3*x_3_1*x_3_2+3//2*x_3_1*x_3_3^2+3//2*x_1_1*x_3_1+2*x_2_1*x_3_2+3//2*x_2_2*x_3_1+9//2*x_3_1*x_3_3+5//2*x_3_1 1//2*x_1_1^2*x_3_2+x_1_1*x_1_2*x_3_1+x_1_1*x_2_2*x_3_2+x_1_1*x_3_2*x_3_3+x_1_2*x_2_1*x_3_2+x_1_2*x_2_2*x_3_1+x_1_2*x_3_1*x_3_3+x_1_3*x_3_1*x_3_2+3//2*x_2_2^2*x_3_2+2*x_2_2*x_3_2*x_3_3+x_2_3*x_3_2^2+3//2*x_3_2*x_3_3^2+1//2*x_1_1*x_3_2+5//2*x_2_2*x_3_2+9//2*x_3_2*x_3_3+5//2*x_3_2 1//2*x_1_1^3+1//2*x_1_1^2*x_2_2+x_1_1^2*x_3_3+x_1_1*x_1_2*x_2_1+2*x_1_1*x_1_3*x_3_1+1//2*x_1_1*x_2_2^2+x_1_1*x_2_2*x_3_3+x_1_1*x_2_3*x_3_2+3//2*x_1_1*x_3_3^2+x_1_2*x_2_1*x_2_2+x_1_2*x_2_1*x_3_3+x_1_2*x_2_3*x_3_1+x_1_3*x_2_1*x_3_2+x_1_3*x_2_2*x_3_1+3*x_1_3*x_3_1*x_3_3+1//2*x_2_2^3+x_2_2^2*x_3_3+2*x_2_2*x_2_3*x_3_2+3//2*x_2_2*x_3_3^2+3*x_2_3*x_3_2*x_3_3+2*x_3_3^3-3//2*x_1_1^2-x_1_1*x_2_2-1//2*x_1_1*x_3_3-x_1_2*x_2_1-1//2*x_2_2^2+1//2*x_2_2*x_3_3+x_2_3*x_3_2+3*x_3_3^2+1//2*x_1_1-1//2*x_2_2; -2*x_1_1^3-3//2*x_1_1^2*x_2_2-3//2*x_1_1^2*x_3_3-3*x_1_1*x_1_2*x_2_1-3*x_1_1*x_1_3*x_3_1-x_1_1*x_2_2^2-x_1_1*x_2_2*x_3_3-x_1_1*x_2_3*x_3_2-x_1_1*x_3_3^2-2*x_1_2*x_2_1*x_2_2-x_1_2*x_2_1*x_3_3-x_1_2*x_2_3*x_3_1-x_1_3*x_2_1*x_3_2-x_1_3*x_2_2*x_3_1-2*x_1_3*x_3_1*x_3_3-1//2*x_2_2^3-1//2*x_2_2^2*x_3_3-x_2_2*x_2_3*x_3_2-1//2*x_2_2*x_3_3^2-x_2_3*x_3_2*x_3_3-1//2*x_3_3^3+3*x_1_1^2+1//2*x_1_1*x_2_2-1//2*x_1_1*x_3_3+x_1_2*x_2_1-1//2*x_2_2^2-x_2_2*x_3_3-x_2_3*x_3_2-3//2*x_3_3^2+1//2*x_2_2-1//2*x_3_3 -3//2*x_1_1^2*x_2_1-2*x_1_1*x_2_1*x_2_2-x_1_1*x_2_1*x_3_3-x_1_1*x_2_3*x_3_1-x_1_2*x_2_1^2-x_1_3*x_2_1*x_3_1-3//2*x_2_1*x_2_2^2-x_2_1*x_2_2*x_3_3-x_2_1*x_2_3*x_3_2-1//2*x_2_1*x_3_3^2-x_2_2*x_2_3*x_3_1-x_2_3*x_3_1*x_3_3-1//2*x_1_1*x_2_1-5//2*x_2_1*x_2_2-3//2*x_2_1*x_3_3-x_2_3*x_3_1-1//2*x_2_1 -3//2*x_1_1^2*x_3_1-x_1_1*x_2_1*x_3_2-x_1_1*x_2_2*x_3_1-2*x_1_1*x_3_1*x_3_3-x_1_2*x_2_1*x_3_1-x_1_3*x_3_1^2-x_2_1*x_2_2*x_3_2-x_2_1*x_3_2*x_3_3-1//2*x_2_2^2*x_3_1-x_2_2*x_3_1*x_3_3-x_2_3*x_3_1*x_3_2-3//2*x_3_1*x_3_3^2-3//2*x_1_1*x_3_1-2*x_2_1*x_3_2-3//2*x_2_2*x_3_1-9//2*x_3_1*x_3_3-5//2*x_3_1 0 0 0; -3//2*x_1_1^2*x_1_2-2*x_1_1*x_1_2*x_2_2-x_1_1*x_1_2*x_3_3-x_1_1*x_1_3*x_3_2-x_1_2^2*x_2_1-x_1_2*x_1_3*x_3_1-3//2*x_1_2*x_2_2^2-x_1_2*x_2_2*x_3_3-x_1_2*x_2_3*x_3_2-1//2*x_1_2*x_3_3^2-x_1_3*x_2_2*x_3_2-x_1_3*x_3_2*x_3_3+9//2*x_1_1*x_1_2+5//2*x_1_2*x_2_2+1//2*x_1_2*x_3_3-5//2*x_1_2 -1//2*x_1_1^3-x_1_1^2*x_2_2-1//2*x_1_1^2*x_3_3-2*x_1_1*x_1_2*x_2_1-x_1_1*x_1_3*x_3_1-3//2*x_1_1*x_2_2^2-x_1_1*x_2_2*x_3_3-x_1_1*x_2_3*x_3_2-1//2*x_1_1*x_3_3^2-3*x_1_2*x_2_1*x_2_2-x_1_2*x_2_1*x_3_3-x_1_2*x_2_3*x_3_1-x_1_3*x_2_1*x_3_2-x_1_3*x_2_2*x_3_1-x_1_3*x_3_1*x_3_3-2*x_2_2^3-3//2*x_2_2^2*x_3_3-3*x_2_2*x_2_3*x_3_2-x_2_2*x_3_3^2-2*x_2_3*x_3_2*x_3_3-1//2*x_3_3^3+3//2*x_1_1^2+3//2*x_1_1*x_2_2+x_1_2*x_2_1-3//2*x_2_2*x_3_3-x_2_3*x_3_2-3//2*x_3_3^2-1//2*x_1_1+x_2_2-1//2*x_3_3 -1//2*x_1_1^2*x_3_2-x_1_1*x_1_2*x_3_1-x_1_1*x_2_2*x_3_2-x_1_1*x_3_2*x_3_3-x_1_2*x_2_1*x_3_2-x_1_2*x_2_2*x_3_1-x_1_2*x_3_1*x_3_3-x_1_3*x_3_1*x_3_2-3//2*x_2_2^2*x_3_2-2*x_2_2*x_3_2*x_3_3-x_2_3*x_3_2^2-3//2*x_3_2*x_3_3^2-1//2*x_1_1*x_3_2-5//2*x_2_2*x_3_2-9//2*x_3_2*x_3_3-5//2*x_3_2 0 0 0; -3//2*x_1_1^2*x_1_3-x_1_1*x_1_2*x_2_3-x_1_1*x_1_3*x_2_2-2*x_1_1*x_1_3*x_3_3-x_1_2*x_1_3*x_2_1-x_1_2*x_2_2*x_2_3-x_1_2*x_2_3*x_3_3-x_1_3^2*x_3_1-1//2*x_1_3*x_2_2^2-x_1_3*x_2_2*x_3_3-x_1_3*x_2_3*x_3_2-3//2*x_1_3*x_3_3^2+9//2*x_1_1*x_1_3+2*x_1_2*x_2_3+3//2*x_1_3*x_2_2+3//2*x_1_3*x_3_3-5//2*x_1_3 -1//2*x_1_1^2*x_2_3-x_1_1*x_1_3*x_2_1-x_1_1*x_2_2*x_2_3-x_1_1*x_2_3*x_3_3-x_1_2*x_2_1*x_2_3-x_1_3*x_2_1*x_2_2-x_1_3*x_2_1*x_3_3-x_1_3*x_2_3*x_3_1-3//2*x_2_2^2*x_2_3-2*x_2_2*x_2_3*x_3_3-x_2_3^2*x_3_2-3//2*x_2_3*x_3_3^2+3//2*x_1_1*x_2_3+x_1_3*x_2_1+5//2*x_2_2*x_2_3+1//2*x_2_3*x_3_3-1//2*x_2_3 -1//2*x_1_1^3-1//2*x_1_1^2*x_2_2-x_1_1^2*x_3_3-x_1_1*x_1_2*x_2_1-2*x_1_1*x_1_3*x_3_1-1//2*x_1_1*x_2_2^2-x_1_1*x_2_2*x_3_3-x_1_1*x_2_3*x_3_2-3//2*x_1_1*x_3_3^2-x_1_2*x_2_1*x_2_2-x_1_2*x_2_1*x_3_3-x_1_2*x_2_3*x_3_1-x_1_3*x_2_1*x_3_2-x_1_3*x_2_2*x_3_1-3*x_1_3*x_3_1*x_3_3-1//2*x_2_2^3-x_2_2^2*x_3_3-2*x_2_2*x_2_3*x_3_2-3//2*x_2_2*x_3_3^2-3*x_2_3*x_3_2*x_3_3-2*x_3_3^3+3//2*x_1_1^2+x_1_1*x_2_2+1//2*x_1_1*x_3_3+x_1_2*x_2_1+1//2*x_2_2^2-1//2*x_2_2*x_3_3-x_2_3*x_3_2-3*x_3_3^2-1//2*x_1_1+1//2*x_2_2 0 0 0]"
      ]
     },
     "execution_count": 20,
     "metadata": {},
     "output_type": "execute_result"
    }
   ],
   "source": [
    "all_pbwdeformations(sp, ArcDiagDeformBasis{QQFieldElem}(sp, 0:3))"
   ]
  },
  {
   "cell_type": "markdown",
   "id": "1a8e01de-ee05-45d2-8e78-7d8465d91d8e",
   "metadata": {},
   "source": [
    "In this case, we reproduce the results of [[EGG05]](#References) (up to a change of bases). For other cases, we still need to find parameterizations of the found families of bases."
   ]
  },
  {
   "cell_type": "markdown",
   "id": "ff7c3709",
   "metadata": {},
   "source": [
    "## References"
   ]
  },
  {
   "cell_type": "markdown",
   "id": "2994de97",
   "metadata": {},
   "source": [
    "[EGG05]: Etingof, P., Gan, W. and Ginzburg, V. Continuous Hecke algebras. Transformation Groups 10, 423–447 (2005).  \n",
    "[FM22]: Flake, J. and Mackscheidt, V. Interpolating PBW Deformations for the Orthosymplectic Groups. arXiv preprint (2022).  \n",
    "[WW14]: Walton, C. and Witherspoon, S. Poincaré–Birkhoff–Witt deformations of smash product algebras from Hopf actions on Koszul algebras. Algebra Number Theory 8 (7), 1701-1731 (2014).  "
   ]
  }
 ],
 "metadata": {
  "kernelspec": {
   "display_name": "Julia 1.10.4",
   "language": "julia",
   "name": "julia-1.10"
  },
  "language_info": {
   "file_extension": ".jl",
   "mimetype": "application/julia",
   "name": "julia",
   "version": "1.10.4"
  }
 },
 "nbformat": 4,
 "nbformat_minor": 5
}
