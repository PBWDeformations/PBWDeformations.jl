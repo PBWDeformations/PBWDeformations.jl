{
 "cells": [
  {
   "cell_type": "markdown",
   "id": "531a4e97",
   "metadata": {},
   "source": [
    "# PBWDeformations.jl examples"
   ]
  },
  {
   "cell_type": "markdown",
   "id": "adee9e34",
   "metadata": {},
   "source": [
    "We present the current functionality of the PBWDeformations.jl package."
   ]
  },
  {
   "cell_type": "code",
   "execution_count": 1,
   "id": "58be0e38",
   "metadata": {},
   "outputs": [
    {
     "name": "stdout",
     "output_type": "stream",
     "text": [
      " -----    -----    -----      -      -----   \n",
      "|     |  |     |  |     |    | |    |     |  \n",
      "|     |  |        |         |   |   |     |  \n",
      "|     |   -----   |        |     |  |-----   \n",
      "|     |        |  |        |-----|  |   |    \n",
      "|     |  |     |  |     |  |     |  |    |   \n",
      " -----    -----    -----   -     -  -     -  \n",
      "\n",
      "...combining (and extending) ANTIC, GAP, Polymake and Singular\n",
      "Version\u001b[32m 0.7.0 \u001b[39m... \n",
      " ... which comes with absolutely no warranty whatsoever\n",
      "Type: '?Oscar' for more information\n",
      "(c) 2019-2021 by The Oscar Development Team\n"
     ]
    }
   ],
   "source": [
    "using Oscar, PBWDeformations"
   ]
  },
  {
   "cell_type": "code",
   "execution_count": 2,
   "id": "11bd76f4",
   "metadata": {},
   "outputs": [
    {
     "name": "stdout",
     "output_type": "stream",
     "text": [
      "\u001b[36m\u001b[1m     Project\u001b[22m\u001b[39m PBWDeformations v0.0.0\n",
      "\u001b[32m\u001b[1m      Status\u001b[22m\u001b[39m `~/code/pbwdeformations.jl/Project.toml`\n",
      " \u001b[90m [c3fe647b] \u001b[39mAbstractAlgebra v0.22.2\n",
      " \u001b[90m [861a8166] \u001b[39mCombinatorics v1.0.2\n",
      " \u001b[90m [f1435218] \u001b[39mOscar v0.7.0\n",
      " \u001b[90m [2f01184e] \u001b[39mSparseArrays\n"
     ]
    }
   ],
   "source": [
    "] status"
   ]
  },
  {
   "cell_type": "markdown",
   "id": "c1e8ef62",
   "metadata": {},
   "source": [
    "## Smash products"
   ]
  },
  {
   "cell_type": "markdown",
   "id": "b91b95de",
   "metadata": {},
   "source": [
    "One can create smash products of the form $$TV \\rtimes H$$ where $H = U(L)$ for some finite-dimensional semisimple Lie algebra $L$ and $V$ some finite dimensional highest weight $L$-module.\n",
    "Currently, there are only the classical types of lie algebras over $\\mathbb{Q}$ supported."
   ]
  },
  {
   "cell_type": "markdown",
   "id": "5689fd7d",
   "metadata": {},
   "source": [
    "As an ongoing example, we use the smash product corresponding dynkin type $A_1$ (i.e. $\\mathfrak{sl}_3(\\mathbb{Q})$) and the highest weight vector $\\lambda = (1)$ (i.e. the natural representation)."
   ]
  },
  {
   "cell_type": "code",
   "execution_count": 3,
   "id": "a1d6a9b1",
   "metadata": {},
   "outputs": [
    {
     "data": {
      "text/plain": [
       "(Lie Algebra Smash Product with basis x_1, x_2, x_3, v_1, v_2 over Rational Field, (PBWDeformations.QuadraticQuoAlgebraElem{fmpq}[x_1, x_2, x_3], PBWDeformations.QuadraticQuoAlgebraElem{fmpq}[v_1, v_2]))"
      ]
     },
     "execution_count": 3,
     "metadata": {},
     "output_type": "execute_result"
    }
   ],
   "source": [
    "sp, ((x_1, x_2, x_3), (v_1, v_2)) = PBWDeformations.smash_product_lie(QQ, 'A', 1, [1])"
   ]
  },
  {
   "cell_type": "markdown",
   "id": "99f142ff",
   "metadata": {},
   "source": [
    "`sp` is a struct containing some data. Of particular interest is `sp.alg`, the underlying algebra that implements most of the NCRing interface of `AbstractAlgebra.jl`."
   ]
  },
  {
   "cell_type": "markdown",
   "id": "c147da16",
   "metadata": {},
   "source": [
    "On can check that the basis elements' commutators are as expected, i.e. $[x_i,x_j] = [x_i,x_j]_L$ and $[x_i,v_k] = x_i \\cdot v_k$."
   ]
  },
  {
   "cell_type": "code",
   "execution_count": 4,
   "id": "3dff9d01",
   "metadata": {},
   "outputs": [],
   "source": [
    "@assert comm(x_1, x_2; strict=true) == x_3      # [x,y]   =   h  = [x,y]_L\n",
    "@assert comm(x_3, x_1; strict=true) == 2*x_1    # [h,x]   =  2x  = [h,x]_L\n",
    "@assert comm(x_3, x_2; strict=true) == -2*x_2   # [h,y]   = -2y  = [h,y]_L\n",
    "\n",
    "@assert comm(x_1, v_1; strict=true) == 0        # [x,v_1] =  0   = x⋅v_1\n",
    "@assert comm(x_2, v_1; strict=true) == v_2      # [y,v_1] =  v_2 = y⋅v_1\n",
    "@assert comm(x_3, v_1; strict=true) == v_1      # [h,v_1] =  v_1 = h⋅v_1\n",
    "@assert comm(x_1, v_2; strict=true) == v_1      # [x,v_2] =  v_1 = x⋅v_2\n",
    "@assert comm(x_2, v_2; strict=true) == 0        # [y,v_2] =  0   = y⋅v_2\n",
    "@assert comm(x_3, v_2; strict=true) == -v_2     # [h,v_2] = -v_2 = h⋅v_2"
   ]
  },
  {
   "cell_type": "markdown",
   "id": "b98de216",
   "metadata": {},
   "source": [
    "The above used optional parameter `strict` forces the computation of a normal form in a PBW basis and is present in the functions `isequal`, `iszero`, `isone` and `comm`. The default implementation of these methods interpretes its arguments as elements of a suitable free associative algebra, and thus does not apply any relations to reduce the computational effort if it is not needed.  \n",
    "Besides in the strict versions of these methods, one can compute the normal form of any expression directly."
   ]
  },
  {
   "cell_type": "code",
   "execution_count": 5,
   "id": "62ad851e",
   "metadata": {},
   "outputs": [
    {
     "data": {
      "text/html": [
       "-2*v_2 + x_2^2*x_1"
      ],
      "text/latex": [
       "-2*v_2 + x_2^2*x_1"
      ],
      "text/plain": [
       "-2*v_2 + x_2^2*x_1"
      ]
     },
     "execution_count": 5,
     "metadata": {},
     "output_type": "execute_result"
    }
   ],
   "source": [
    "a = v_2 + x_2^2 * x_1 - 3*v_2"
   ]
  },
  {
   "cell_type": "code",
   "execution_count": 6,
   "id": "fdaff8e0",
   "metadata": {},
   "outputs": [
    {
     "data": {
      "text/html": [
       "-2*v_2 + -2*x_2*x_3 + x_1*x_2^2 + 2*x_2"
      ],
      "text/latex": [
       "-2*v_2 + -2*x_2*x_3 + x_1*x_2^2 + 2*x_2"
      ],
      "text/plain": [
       "-2*v_2 + -2*x_2*x_3 + x_1*x_2^2 + 2*x_2"
      ]
     },
     "execution_count": 6,
     "metadata": {},
     "output_type": "execute_result"
    }
   ],
   "source": [
    "normal_form(a)"
   ]
  },
  {
   "cell_type": "markdown",
   "id": "6ec29e6c",
   "metadata": {},
   "source": [
    "## Deforming smash products"
   ]
  },
  {
   "cell_type": "markdown",
   "id": "aa5f0556",
   "metadata": {},
   "source": [
    "A deformation of a smash product $TV \\rtimes H$ is formally $$A := A_{H,V,\\kappa} := (TV \\rtimes H)/I_\\kappa$$ where $I_\\kappa := \\big([v_i,v_j] - \\kappa(v_i \\wedge v_j)\\big)$ for some morphism $\\kappa: V \\wedge V \\to H$."
   ]
  },
  {
   "cell_type": "markdown",
   "id": "64dcbca8",
   "metadata": {},
   "source": [
    "In the context of this package, $\\kappa$ is always represented as a matrix $M_\\kappa$ where $M_\\kappa[i,j] = \\kappa(v_i \\wedge v_j)$."
   ]
  },
  {
   "cell_type": "markdown",
   "id": "91a435ec",
   "metadata": {},
   "source": [
    "As a first example, consider the symmetric deformation induced by $\\kappa = 0$ and denoted by $A_0 := A_{H,V,0}$."
   ]
  },
  {
   "cell_type": "code",
   "execution_count": 7,
   "id": "bcce03ca",
   "metadata": {},
   "outputs": [
    {
     "data": {
      "text/plain": [
       "(Symmetric Deformation of Lie Algebra Smash Product with basis x_1, x_2, x_3, v_1, v_2 over Rational Field, (PBWDeformations.QuadraticQuoAlgebraElem{fmpq}[x_1, x_2, x_3], PBWDeformations.QuadraticQuoAlgebraElem{fmpq}[v_1, v_2]))"
      ]
     },
     "execution_count": 7,
     "metadata": {},
     "output_type": "execute_result"
    }
   ],
   "source": [
    "PBWDeformations.smash_product_symmdeform_lie(sp)"
   ]
  },
  {
   "cell_type": "markdown",
   "id": "7ec4c6d6",
   "metadata": {},
   "source": [
    "This is in fact only a shorthand for the following, slightly longer code."
   ]
  },
  {
   "cell_type": "code",
   "execution_count": 8,
   "id": "aa628ffd",
   "metadata": {},
   "outputs": [
    {
     "data": {
      "text/plain": [
       "(Symmetric Deformation of Lie Algebra Smash Product with basis x_1, x_2, x_3, v_1, v_2 over Rational Field, (PBWDeformations.QuadraticQuoAlgebraElem{fmpq}[x_1, x_2, x_3], PBWDeformations.QuadraticQuoAlgebraElem{fmpq}[v_1, v_2]))"
      ]
     },
     "execution_count": 8,
     "metadata": {},
     "output_type": "execute_result"
    }
   ],
   "source": [
    "kappa1 = fill(zero(sp.alg), sp.dimV, sp.dimV)\n",
    "deform1, _ = PBWDeformations.smash_product_deform_lie(sp, kappa1)"
   ]
  },
  {
   "cell_type": "markdown",
   "id": "e7f90a9d",
   "metadata": {},
   "source": [
    "One can make $\\kappa$ arbitrarily complicated, as long as $M_\\kappa$ is skew-symmetric. The second, here suppressed, return value is again a tuple of lists of generators for $U(L)$ and $TV$ (cf. [`smash_product_lie`](#Smash-products)), now respecting the relations from $I_\\kappa$ in a `strict=true` context as well."
   ]
  },
  {
   "cell_type": "code",
   "execution_count": 9,
   "id": "0a73cd98",
   "metadata": {},
   "outputs": [
    {
     "data": {
      "text/plain": [
       "(Deformation of Lie Algebra Smash Product with basis x_1, x_2, x_3, v_1, v_2 over Rational Field, (PBWDeformations.QuadraticQuoAlgebraElem{fmpq}[x_1, x_2, x_3], PBWDeformations.QuadraticQuoAlgebraElem{fmpq}[v_1, v_2]))"
      ]
     },
     "execution_count": 9,
     "metadata": {},
     "output_type": "execute_result"
    }
   ],
   "source": [
    "kappa2 = fill(zero(sp.alg), sp.dimV, sp.dimV)\n",
    "kappa2[1,2] = x_1^2 + 5*x_2*x_3 + 3\n",
    "kappa2[2,1] = -kappa2[1,2]\n",
    "deform2, _ = PBWDeformations.smash_product_deform_lie(sp, kappa2)"
   ]
  },
  {
   "cell_type": "code",
   "execution_count": 10,
   "id": "55634d4d",
   "metadata": {},
   "outputs": [
    {
     "data": {
      "text/plain": [
       "(Deformation of Lie Algebra Smash Product with basis x_1, x_2, x_3, v_1, v_2 over Rational Field, (PBWDeformations.QuadraticQuoAlgebraElem{fmpq}[x_1, x_2, x_3], PBWDeformations.QuadraticQuoAlgebraElem{fmpq}[v_1, v_2]))"
      ]
     },
     "execution_count": 10,
     "metadata": {},
     "output_type": "execute_result"
    }
   ],
   "source": [
    "kappa3 = fill(zero(sp.alg), sp.dimV, sp.dimV)\n",
    "kappa3[1,2] = 4*x_1*x_2 + x_3^2 - 2*x_3 + 42\n",
    "kappa3[2,1] = -kappa3[1,2]\n",
    "deform3, _ = PBWDeformations.smash_product_deform_lie(sp, kappa3)"
   ]
  },
  {
   "cell_type": "code",
   "execution_count": 11,
   "id": "9717439e",
   "metadata": {},
   "outputs": [
    {
     "ename": "LoadError",
     "evalue": "ArgumentError: kappa is not skew-symmetric.",
     "output_type": "error",
     "traceback": [
      "ArgumentError: kappa is not skew-symmetric.",
      "",
      "Stacktrace:",
      " [1] smash_product_deform_lie(sp::PBWDeformations.SmashProductLie{fmpq}, kappa::Matrix{PBWDeformations.QuadraticQuoAlgebraElem{fmpq}})",
      "   @ PBWDeformations ~/code/pbwdeformations.jl/src/SmashProductDeformLie.jl:27",
      " [2] top-level scope",
      "   @ In[11]:4",
      " [3] eval",
      "   @ ./boot.jl:373 [inlined]",
      " [4] include_string(mapexpr::typeof(REPL.softscope), mod::Module, code::String, filename::String)",
      "   @ Base ./loading.jl:1196"
     ]
    }
   ],
   "source": [
    "kappa4 = fill(zero(sp.alg), sp.dimV, sp.dimV)\n",
    "kappa4[1,2] = x_2^2\n",
    "kappa4[2,1] = -x_1\n",
    "deform4, _ = PBWDeformations.smash_product_deform_lie(sp, kappa4)"
   ]
  },
  {
   "cell_type": "markdown",
   "id": "7c48253b",
   "metadata": {},
   "source": [
    "## PBW deformations"
   ]
  },
  {
   "cell_type": "markdown",
   "id": "30c1cc64",
   "metadata": {},
   "source": [
    "$A$ becomes a filtered algebra via $$F_i(A) = \\overline{T^{\\leq i}V \\rtimes H}.$$\n",
    "A deformation $A$ is called a *PBW deformation* of $A_0 = SV \\rtimes H$ if $\\mathop{gr} A \\cong A_0$ (as $\\mathbb{N}$-graded algebras)."
   ]
  },
  {
   "cell_type": "markdown",
   "id": "8d3045b4",
   "metadata": {},
   "source": [
    "This package can check for any $\\kappa$ if this induces a PBW deformation. To achieve this, it uses Theorem 3.1 of [[1]](#References)."
   ]
  },
  {
   "cell_type": "code",
   "execution_count": 12,
   "id": "2691d53d",
   "metadata": {},
   "outputs": [
    {
     "data": {
      "text/plain": [
       "true"
      ]
     },
     "execution_count": 12,
     "metadata": {},
     "output_type": "execute_result"
    }
   ],
   "source": [
    "PBWDeformations.ispbwdeform(deform1)"
   ]
  },
  {
   "cell_type": "markdown",
   "id": "d42b5fda",
   "metadata": {},
   "source": [
    "The symmetric deformation is *always* a PBW deformation."
   ]
  },
  {
   "cell_type": "code",
   "execution_count": 13,
   "id": "219ff3b1",
   "metadata": {},
   "outputs": [
    {
     "data": {
      "text/plain": [
       "false"
      ]
     },
     "execution_count": 13,
     "metadata": {},
     "output_type": "execute_result"
    }
   ],
   "source": [
    "PBWDeformations.ispbwdeform(deform2)"
   ]
  },
  {
   "cell_type": "markdown",
   "id": "395a4688",
   "metadata": {},
   "source": [
    "Most deformations are no PBW deformations."
   ]
  },
  {
   "cell_type": "code",
   "execution_count": 14,
   "id": "d566f27c",
   "metadata": {},
   "outputs": [
    {
     "data": {
      "text/plain": [
       "true"
      ]
     },
     "execution_count": 14,
     "metadata": {},
     "output_type": "execute_result"
    }
   ],
   "source": [
    "PBWDeformations.ispbwdeform(deform3)"
   ]
  },
  {
   "cell_type": "markdown",
   "id": "9583a3c5",
   "metadata": {},
   "source": [
    "But sometimes they are."
   ]
  },
  {
   "cell_type": "markdown",
   "id": "d763a0a3",
   "metadata": {},
   "source": [
    "## Computing *all* PBW deformations"
   ]
  },
  {
   "cell_type": "markdown",
   "id": "3f71fc37",
   "metadata": {},
   "source": [
    "Using Theorem 3.1 of [[1]](#References), one can compute a basis of the matrix space of all $M_\\kappa$ that induce a PBW deformation. The second parameter to the below function sets the maximal degree of all elements in $M_\\kappa$.\n",
    "\n",
    "**WARNING**: This computation needs a lot of time and RAM, even for small examples."
   ]
  },
  {
   "cell_type": "code",
   "execution_count": 15,
   "id": "016821a4",
   "metadata": {},
   "outputs": [
    {
     "name": "stderr",
     "output_type": "stream",
     "text": [
      "┌ Info: Constructing MPolyRing...\n",
      "└ @ PBWDeformations /home/lgoe/code/pbwdeformations.jl/src/SmashProductDeformLie.jl:242\n",
      "┌ Info: Changing SmashProductLie coeffcient type...\n",
      "└ @ PBWDeformations /home/lgoe/code/pbwdeformations.jl/src/SmashProductDeformLie.jl:249\n",
      "┌ Info: Constructing kappa...\n",
      "└ @ PBWDeformations /home/lgoe/code/pbwdeformations.jl/src/SmashProductDeformLie.jl:252\n",
      "┌ Info: Constructing deformation...\n",
      "└ @ PBWDeformations /home/lgoe/code/pbwdeformations.jl/src/SmashProductDeformLie.jl:259\n",
      "┌ Info: Generating equation iterator...\n",
      "└ @ PBWDeformations /home/lgoe/code/pbwdeformations.jl/src/SmashProductDeformLie.jl:262\n",
      "┌ Info: Computing row-echelon form...\n",
      "└ @ PBWDeformations /home/lgoe/code/pbwdeformations.jl/src/SmashProductDeformLie.jl:278\n",
      "┌ Info: Computing reduced row-echelon form...\n",
      "└ @ PBWDeformations /home/lgoe/code/pbwdeformations.jl/src/SmashProductDeformLie.jl:284\n",
      "┌ Info: Computing a basis...\n",
      "└ @ PBWDeformations /home/lgoe/code/pbwdeformations.jl/src/SmashProductDeformLie.jl:293\n"
     ]
    },
    {
     "data": {
      "text/plain": [
       "3-element Vector{Matrix{PBWDeformations.QuadraticQuoAlgebraElem{fmpq}}}:\n",
       " [0 1; -1 0]\n",
       " [0 -2*x_3 + 4*x_1*x_2 + x_3^2; 2*x_3 + -4*x_1*x_2 + -1*x_3^2 0]\n",
       " [0 8*x_3 + 16*x_1*x_2 + -32*x_1*x_2*x_3 + -4*x_3^3 + 16*x_1^2*x_2^2 + 8*x_1*x_2*x_3^2 + x_3^4; -8*x_3 + -16*x_1*x_2 + 32*x_1*x_2*x_3 + 4*x_3^3 + -16*x_1^2*x_2^2 + -8*x_1*x_2*x_3^2 + -1*x_3^4 0]"
      ]
     },
     "execution_count": 15,
     "metadata": {},
     "output_type": "execute_result"
    }
   ],
   "source": [
    "kappas = PBWDeformations.possible_pbwdeforms(sp, 4)"
   ]
  },
  {
   "cell_type": "markdown",
   "id": "21f9b314",
   "metadata": {},
   "source": [
    "The space of $M_\\kappa$ of degree at most 4 and inducing a PBW deformation has dimension 3.\n",
    "\n",
    "We can check that these indeed induce PBW deformations."
   ]
  },
  {
   "cell_type": "code",
   "execution_count": 16,
   "id": "9bf73aea",
   "metadata": {},
   "outputs": [
    {
     "name": "stdout",
     "output_type": "stream",
     "text": [
      "true\n",
      "true\n",
      "true\n"
     ]
    }
   ],
   "source": [
    "for kappa in kappas\n",
    "    d, _ = PBWDeformations.smash_product_deform_lie(sp, kappa)\n",
    "    println(PBWDeformations.ispbwdeform(d))\n",
    "end"
   ]
  },
  {
   "cell_type": "markdown",
   "id": "ff7c3709",
   "metadata": {},
   "source": [
    "## References"
   ]
  },
  {
   "cell_type": "markdown",
   "id": "2994de97",
   "metadata": {},
   "source": [
    "[1] Walton, Witherspoon: Poincare-Birkhoff-Witt deformations of smash product algebras from Hopf actions on Koszul algebras. DOI: 10.2140/ant.2014.8.1701. https://arxiv.org/abs/1308.6011"
   ]
  }
 ],
 "metadata": {
  "kernelspec": {
   "display_name": "Julia 1.7.0",
   "language": "julia",
   "name": "julia-1.7"
  },
  "language_info": {
   "file_extension": ".jl",
   "mimetype": "application/julia",
   "name": "julia",
   "version": "1.7.0"
  }
 },
 "nbformat": 4,
 "nbformat_minor": 5
}
